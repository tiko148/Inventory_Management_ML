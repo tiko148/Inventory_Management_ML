{
 "cells": [
  {
   "cell_type": "code",
   "execution_count": 1,
   "id": "8abcb48b",
   "metadata": {},
   "outputs": [],
   "source": [
    "import warnings\n",
    "import time\n",
    "import numpy as np\n",
    "import pandas as pd\n",
    "import seaborn as sns\n",
    "import matplotlib.pyplot as plt\n",
    "%matplotlib inline\n",
    "warnings.filterwarnings('ignore')"
   ]
  },
  {
   "cell_type": "code",
   "execution_count": 66,
   "id": "a160de7c",
   "metadata": {},
   "outputs": [],
   "source": [
    "Order=pd.read_csv('Orders.csv')"
   ]
  },
  {
   "cell_type": "code",
   "execution_count": 67,
   "id": "70529fa6",
   "metadata": {},
   "outputs": [
    {
     "data": {
      "text/plain": [
       "(0          $62.15\n",
       " 1        -$288.77\n",
       " 2         $919.97\n",
       " 3         -$96.54\n",
       " 4         $311.52\n",
       "            ...   \n",
       " 51285       $4.50\n",
       " 51286       $3.34\n",
       " 51287       $2.48\n",
       " 51288       $2.40\n",
       " 51289       $1.80\n",
       " Name: Profit, Length: 51290, dtype: object,\n",
       " 0          $221.98\n",
       " 1        $3,709.40\n",
       " 2        $5,175.17\n",
       " 3        $2,892.51\n",
       " 4        $2,832.96\n",
       "            ...    \n",
       " 51285       $65.10\n",
       " 51286       $16.72\n",
       " 51287        $8.56\n",
       " 51288       $13.44\n",
       " 51289       $61.38\n",
       " Name: Sales, Length: 51290, dtype: object)"
      ]
     },
     "execution_count": 67,
     "metadata": {},
     "output_type": "execute_result"
    }
   ],
   "source": [
    "Order['Profit'], Order['Sales']"
   ]
  },
  {
   "cell_type": "code",
   "execution_count": 69,
   "id": "8fa0b0da",
   "metadata": {},
   "outputs": [],
   "source": [
    "#Convert Profit and Sales columns to numeric type\n",
    "idx = ['Profit','Sales']\n",
    "for i in idx:\n",
    "    Order[i]=pd.to_numeric(Order[i].str.replace('$','').str.replace(',',''),errors='ignore')"
   ]
  },
  {
   "cell_type": "code",
   "execution_count": 70,
   "id": "9ec6fb20",
   "metadata": {},
   "outputs": [
    {
     "data": {
      "text/plain": [
       "Profit    float64\n",
       "Sales     float64\n",
       "dtype: object"
      ]
     },
     "execution_count": 70,
     "metadata": {},
     "output_type": "execute_result"
    }
   ],
   "source": [
    "Order[['Profit','Sales']].dtypes"
   ]
  },
  {
   "cell_type": "code",
   "execution_count": 56,
   "id": "4d4c69a7",
   "metadata": {},
   "outputs": [
    {
     "data": {
      "text/plain": [
       "Row.ID                0\n",
       "Order.ID              0\n",
       "Order.Date            0\n",
       "Ship.Date             0\n",
       "Ship.Mode             0\n",
       "Customer.ID           0\n",
       "Customer.Name         0\n",
       "Segment               0\n",
       "Postal.Code       41296\n",
       "City                  0\n",
       "State                 0\n",
       "Country               0\n",
       "Region                0\n",
       "Market                0\n",
       "Product.ID            0\n",
       "Category              0\n",
       "Sub.Category          0\n",
       "Product.Name          0\n",
       "Sales                 0\n",
       "Quantity              0\n",
       "Discount              0\n",
       "Profit                0\n",
       "Shipping.Cost         0\n",
       "Order.Priority        0\n",
       "dtype: int64"
      ]
     },
     "execution_count": 56,
     "metadata": {},
     "output_type": "execute_result"
    }
   ],
   "source": [
    "Order.isnull().sum() #there are 41296 null values in Postal.Code column. Other columns don't have null values."
   ]
  },
  {
   "cell_type": "code",
   "execution_count": 71,
   "id": "20e14341",
   "metadata": {},
   "outputs": [
    {
     "data": {
      "text/plain": [
       "Order.Date    object\n",
       "Ship.Date     object\n",
       "dtype: object"
      ]
     },
     "execution_count": 71,
     "metadata": {},
     "output_type": "execute_result"
    }
   ],
   "source": [
    "Order[['Order.Date','Ship.Date']].dtypes"
   ]
  },
  {
   "cell_type": "markdown",
   "id": "f4edbdd6",
   "metadata": {},
   "source": [
    "# Order Seasonality and Categorical Analysis"
   ]
  },
  {
   "cell_type": "code",
   "execution_count": 72,
   "id": "62f9d644",
   "metadata": {},
   "outputs": [],
   "source": [
    "#Convert date columns to date types\n",
    "Order['Order.Date']=pd.to_datetime(Order['Order.Date'],format='%m/%d/%y')\n",
    "Order['Ship.Date']=pd.to_datetime(Order['Ship.Date'],format='%m/%d/%y')"
   ]
  },
  {
   "cell_type": "code",
   "execution_count": 73,
   "id": "62ef642e",
   "metadata": {},
   "outputs": [
    {
     "data": {
      "text/plain": [
       "Order.Date    datetime64[ns]\n",
       "Ship.Date     datetime64[ns]\n",
       "dtype: object"
      ]
     },
     "execution_count": 73,
     "metadata": {},
     "output_type": "execute_result"
    }
   ],
   "source": [
    "Order[['Order.Date','Ship.Date']].dtypes"
   ]
  },
  {
   "cell_type": "code",
   "execution_count": 79,
   "id": "02218948",
   "metadata": {},
   "outputs": [],
   "source": [
    "#Get the month of the order date\n",
    "Order['Order.Month']=Order['Order.Date'].dt.month"
   ]
  },
  {
   "cell_type": "code",
   "execution_count": 80,
   "id": "82d17737",
   "metadata": {},
   "outputs": [
    {
     "data": {
      "text/plain": [
       "array([11,  2, 10,  1,  6,  4,  3, 12,  7,  9,  8,  5], dtype=int64)"
      ]
     },
     "execution_count": 80,
     "metadata": {},
     "output_type": "execute_result"
    }
   ],
   "source": [
    "Order['Order.Month'].unique()"
   ]
  },
  {
   "cell_type": "code",
   "execution_count": 86,
   "id": "996d56de",
   "metadata": {},
   "outputs": [
    {
     "data": {
      "text/plain": [
       "array([2014, 2012, 2013, 2015], dtype=int64)"
      ]
     },
     "execution_count": 86,
     "metadata": {},
     "output_type": "execute_result"
    }
   ],
   "source": [
    "#Get the year of the order date\n",
    "Order['Order.Year']=Order['Order.Date'].dt.year\n",
    "Order['Order.Year'].unique()"
   ]
  },
  {
   "cell_type": "code",
   "execution_count": 91,
   "id": "9ba73ac1",
   "metadata": {},
   "outputs": [
    {
     "data": {
      "text/html": [
       "<div>\n",
       "<style scoped>\n",
       "    .dataframe tbody tr th:only-of-type {\n",
       "        vertical-align: middle;\n",
       "    }\n",
       "\n",
       "    .dataframe tbody tr th {\n",
       "        vertical-align: top;\n",
       "    }\n",
       "\n",
       "    .dataframe thead th {\n",
       "        text-align: right;\n",
       "    }\n",
       "</style>\n",
       "<table border=\"1\" class=\"dataframe\">\n",
       "  <thead>\n",
       "    <tr style=\"text-align: right;\">\n",
       "      <th>Order.Year</th>\n",
       "      <th>2012</th>\n",
       "      <th>2013</th>\n",
       "      <th>2014</th>\n",
       "      <th>2015</th>\n",
       "    </tr>\n",
       "    <tr>\n",
       "      <th>Order.Month</th>\n",
       "      <th></th>\n",
       "      <th></th>\n",
       "      <th></th>\n",
       "      <th></th>\n",
       "    </tr>\n",
       "  </thead>\n",
       "  <tbody>\n",
       "    <tr>\n",
       "      <th>1</th>\n",
       "      <td>1463</td>\n",
       "      <td>1874</td>\n",
       "      <td>2413</td>\n",
       "      <td>3122</td>\n",
       "    </tr>\n",
       "    <tr>\n",
       "      <th>2</th>\n",
       "      <td>1401</td>\n",
       "      <td>1444</td>\n",
       "      <td>2102</td>\n",
       "      <td>2482</td>\n",
       "    </tr>\n",
       "    <tr>\n",
       "      <th>3</th>\n",
       "      <td>1745</td>\n",
       "      <td>2237</td>\n",
       "      <td>2686</td>\n",
       "      <td>3722</td>\n",
       "    </tr>\n",
       "    <tr>\n",
       "      <th>4</th>\n",
       "      <td>1934</td>\n",
       "      <td>2250</td>\n",
       "      <td>2688</td>\n",
       "      <td>3594</td>\n",
       "    </tr>\n",
       "    <tr>\n",
       "      <th>5</th>\n",
       "      <td>2167</td>\n",
       "      <td>2921</td>\n",
       "      <td>3808</td>\n",
       "      <td>4300</td>\n",
       "    </tr>\n",
       "    <tr>\n",
       "      <th>6</th>\n",
       "      <td>3002</td>\n",
       "      <td>3671</td>\n",
       "      <td>5327</td>\n",
       "      <td>6009</td>\n",
       "    </tr>\n",
       "    <tr>\n",
       "      <th>7</th>\n",
       "      <td>1836</td>\n",
       "      <td>2321</td>\n",
       "      <td>3252</td>\n",
       "      <td>3637</td>\n",
       "    </tr>\n",
       "    <tr>\n",
       "      <th>8</th>\n",
       "      <td>3020</td>\n",
       "      <td>3818</td>\n",
       "      <td>4934</td>\n",
       "      <td>5824</td>\n",
       "    </tr>\n",
       "    <tr>\n",
       "      <th>9</th>\n",
       "      <td>3644</td>\n",
       "      <td>4205</td>\n",
       "      <td>5793</td>\n",
       "      <td>6837</td>\n",
       "    </tr>\n",
       "    <tr>\n",
       "      <th>10</th>\n",
       "      <td>2981</td>\n",
       "      <td>3563</td>\n",
       "      <td>3883</td>\n",
       "      <td>5876</td>\n",
       "    </tr>\n",
       "    <tr>\n",
       "      <th>11</th>\n",
       "      <td>3924</td>\n",
       "      <td>5193</td>\n",
       "      <td>5556</td>\n",
       "      <td>7706</td>\n",
       "    </tr>\n",
       "    <tr>\n",
       "      <th>12</th>\n",
       "      <td>4326</td>\n",
       "      <td>4614</td>\n",
       "      <td>5694</td>\n",
       "      <td>7513</td>\n",
       "    </tr>\n",
       "  </tbody>\n",
       "</table>\n",
       "</div>"
      ],
      "text/plain": [
       "Order.Year   2012  2013  2014  2015\n",
       "Order.Month                        \n",
       "1            1463  1874  2413  3122\n",
       "2            1401  1444  2102  2482\n",
       "3            1745  2237  2686  3722\n",
       "4            1934  2250  2688  3594\n",
       "5            2167  2921  3808  4300\n",
       "6            3002  3671  5327  6009\n",
       "7            1836  2321  3252  3637\n",
       "8            3020  3818  4934  5824\n",
       "9            3644  4205  5793  6837\n",
       "10           2981  3563  3883  5876\n",
       "11           3924  5193  5556  7706\n",
       "12           4326  4614  5694  7513"
      ]
     },
     "execution_count": 91,
     "metadata": {},
     "output_type": "execute_result"
    }
   ],
   "source": [
    "#Create a table ready for Seasonality Analysis \n",
    "Season=Order.groupby(['Order.Year','Order.Month'])['Quantity'].sum().unstack('Order.Year')\n",
    "Season"
   ]
  },
  {
   "cell_type": "code",
   "execution_count": 142,
   "id": "e5d258ee",
   "metadata": {},
   "outputs": [
    {
     "data": {
      "text/plain": [
       "<AxesSubplot:title={'center':'Seaonality Analysis by Year(USD)'}, xlabel='Order.Month'>"
      ]
     },
     "execution_count": 142,
     "metadata": {},
     "output_type": "execute_result"
    },
    {
     "data": {
      "image/png": "[encoded data removed]",
      "text/plain": [
       "<Figure size 432x288 with 1 Axes>"
      ]
     },
     "metadata": {
      "needs_background": "light"
     },
     "output_type": "display_data"
    }
   ],
   "source": [
    "Season.plot(\n",
    "    y=Season.columns,\n",
    "    title='Seaonality Analysis by Year(USD)'\n",
    ")"
   ]
  },
  {
   "cell_type": "code",
   "execution_count": 103,
   "id": "7caa251b",
   "metadata": {},
   "outputs": [],
   "source": [
    "#Create a table ready for Seasonal categorical Analysis \n",
    "Season_Cat=Order.groupby(['Order.Month','Category'])['Quantity'].sum().unstack('Category')"
   ]
  },
  {
   "cell_type": "code",
   "execution_count": 114,
   "id": "48d92284",
   "metadata": {},
   "outputs": [
    {
     "data": {
      "text/html": [
       "<div>\n",
       "<style scoped>\n",
       "    .dataframe tbody tr th:only-of-type {\n",
       "        vertical-align: middle;\n",
       "    }\n",
       "\n",
       "    .dataframe tbody tr th {\n",
       "        vertical-align: top;\n",
       "    }\n",
       "\n",
       "    .dataframe thead th {\n",
       "        text-align: right;\n",
       "    }\n",
       "</style>\n",
       "<table border=\"1\" class=\"dataframe\">\n",
       "  <thead>\n",
       "    <tr style=\"text-align: right;\">\n",
       "      <th>Category</th>\n",
       "      <th>Furniture</th>\n",
       "      <th>Office Supplies</th>\n",
       "      <th>Technology</th>\n",
       "    </tr>\n",
       "    <tr>\n",
       "      <th>Order.Month</th>\n",
       "      <th></th>\n",
       "      <th></th>\n",
       "      <th></th>\n",
       "    </tr>\n",
       "  </thead>\n",
       "  <tbody>\n",
       "    <tr>\n",
       "      <th>1</th>\n",
       "      <td>1750</td>\n",
       "      <td>5480</td>\n",
       "      <td>1642</td>\n",
       "    </tr>\n",
       "    <tr>\n",
       "      <th>2</th>\n",
       "      <td>1494</td>\n",
       "      <td>4340</td>\n",
       "      <td>1595</td>\n",
       "    </tr>\n",
       "    <tr>\n",
       "      <th>3</th>\n",
       "      <td>2098</td>\n",
       "      <td>6283</td>\n",
       "      <td>2009</td>\n",
       "    </tr>\n",
       "    <tr>\n",
       "      <th>4</th>\n",
       "      <td>2005</td>\n",
       "      <td>6391</td>\n",
       "      <td>2070</td>\n",
       "    </tr>\n",
       "    <tr>\n",
       "      <th>5</th>\n",
       "      <td>2484</td>\n",
       "      <td>8170</td>\n",
       "      <td>2542</td>\n",
       "    </tr>\n",
       "    <tr>\n",
       "      <th>6</th>\n",
       "      <td>3434</td>\n",
       "      <td>11012</td>\n",
       "      <td>3563</td>\n",
       "    </tr>\n",
       "    <tr>\n",
       "      <th>7</th>\n",
       "      <td>2157</td>\n",
       "      <td>6618</td>\n",
       "      <td>2271</td>\n",
       "    </tr>\n",
       "    <tr>\n",
       "      <th>8</th>\n",
       "      <td>3059</td>\n",
       "      <td>11019</td>\n",
       "      <td>3518</td>\n",
       "    </tr>\n",
       "    <tr>\n",
       "      <th>9</th>\n",
       "      <td>4111</td>\n",
       "      <td>12572</td>\n",
       "      <td>3796</td>\n",
       "    </tr>\n",
       "    <tr>\n",
       "      <th>10</th>\n",
       "      <td>3323</td>\n",
       "      <td>9585</td>\n",
       "      <td>3395</td>\n",
       "    </tr>\n",
       "    <tr>\n",
       "      <th>11</th>\n",
       "      <td>4471</td>\n",
       "      <td>13529</td>\n",
       "      <td>4379</td>\n",
       "    </tr>\n",
       "    <tr>\n",
       "      <th>12</th>\n",
       "      <td>4506</td>\n",
       "      <td>13245</td>\n",
       "      <td>4396</td>\n",
       "    </tr>\n",
       "  </tbody>\n",
       "</table>\n",
       "</div>"
      ],
      "text/plain": [
       "Category     Furniture  Office Supplies  Technology\n",
       "Order.Month                                        \n",
       "1                 1750             5480        1642\n",
       "2                 1494             4340        1595\n",
       "3                 2098             6283        2009\n",
       "4                 2005             6391        2070\n",
       "5                 2484             8170        2542\n",
       "6                 3434            11012        3563\n",
       "7                 2157             6618        2271\n",
       "8                 3059            11019        3518\n",
       "9                 4111            12572        3796\n",
       "10                3323             9585        3395\n",
       "11                4471            13529        4379\n",
       "12                4506            13245        4396"
      ]
     },
     "execution_count": 114,
     "metadata": {},
     "output_type": "execute_result"
    }
   ],
   "source": [
    "Order.groupby(['Order.Month','Category'])['Quantity'].sum().unstack('Category')"
   ]
  },
  {
   "cell_type": "code",
   "execution_count": 115,
   "id": "0d577602",
   "metadata": {},
   "outputs": [
    {
     "data": {
      "text/html": [
       "<div>\n",
       "<style scoped>\n",
       "    .dataframe tbody tr th:only-of-type {\n",
       "        vertical-align: middle;\n",
       "    }\n",
       "\n",
       "    .dataframe tbody tr th {\n",
       "        vertical-align: top;\n",
       "    }\n",
       "\n",
       "    .dataframe thead th {\n",
       "        text-align: right;\n",
       "    }\n",
       "</style>\n",
       "<table border=\"1\" class=\"dataframe\">\n",
       "  <thead>\n",
       "    <tr style=\"text-align: right;\">\n",
       "      <th>Category</th>\n",
       "      <th>Furniture</th>\n",
       "      <th>Office Supplies</th>\n",
       "      <th>Technology</th>\n",
       "    </tr>\n",
       "    <tr>\n",
       "      <th>Order.Month</th>\n",
       "      <th></th>\n",
       "      <th></th>\n",
       "      <th></th>\n",
       "    </tr>\n",
       "  </thead>\n",
       "  <tbody>\n",
       "    <tr>\n",
       "      <th>1</th>\n",
       "      <td>228829.15</td>\n",
       "      <td>222428.77</td>\n",
       "      <td>225531.38</td>\n",
       "    </tr>\n",
       "    <tr>\n",
       "      <th>2</th>\n",
       "      <td>190255.60</td>\n",
       "      <td>157169.49</td>\n",
       "      <td>207225.12</td>\n",
       "    </tr>\n",
       "    <tr>\n",
       "      <th>3</th>\n",
       "      <td>250388.41</td>\n",
       "      <td>224884.15</td>\n",
       "      <td>285245.78</td>\n",
       "    </tr>\n",
       "    <tr>\n",
       "      <th>4</th>\n",
       "      <td>210529.31</td>\n",
       "      <td>226586.55</td>\n",
       "      <td>258863.00</td>\n",
       "    </tr>\n",
       "    <tr>\n",
       "      <th>5</th>\n",
       "      <td>285390.71</td>\n",
       "      <td>283526.00</td>\n",
       "      <td>346576.53</td>\n",
       "    </tr>\n",
       "    <tr>\n",
       "      <th>6</th>\n",
       "      <td>409439.17</td>\n",
       "      <td>369467.36</td>\n",
       "      <td>483174.76</td>\n",
       "    </tr>\n",
       "    <tr>\n",
       "      <th>7</th>\n",
       "      <td>227072.62</td>\n",
       "      <td>236415.51</td>\n",
       "      <td>288818.33</td>\n",
       "    </tr>\n",
       "    <tr>\n",
       "      <th>8</th>\n",
       "      <td>391224.77</td>\n",
       "      <td>404230.43</td>\n",
       "      <td>498860.35</td>\n",
       "    </tr>\n",
       "    <tr>\n",
       "      <th>9</th>\n",
       "      <td>493576.73</td>\n",
       "      <td>423979.50</td>\n",
       "      <td>514197.78</td>\n",
       "    </tr>\n",
       "    <tr>\n",
       "      <th>10</th>\n",
       "      <td>383938.11</td>\n",
       "      <td>308247.41</td>\n",
       "      <td>493042.59</td>\n",
       "    </tr>\n",
       "    <tr>\n",
       "      <th>11</th>\n",
       "      <td>508488.90</td>\n",
       "      <td>462687.18</td>\n",
       "      <td>575552.81</td>\n",
       "    </tr>\n",
       "    <tr>\n",
       "      <th>12</th>\n",
       "      <td>531319.55</td>\n",
       "      <td>467873.11</td>\n",
       "      <td>567470.33</td>\n",
       "    </tr>\n",
       "  </tbody>\n",
       "</table>\n",
       "</div>"
      ],
      "text/plain": [
       "Category     Furniture  Office Supplies  Technology\n",
       "Order.Month                                        \n",
       "1            228829.15        222428.77   225531.38\n",
       "2            190255.60        157169.49   207225.12\n",
       "3            250388.41        224884.15   285245.78\n",
       "4            210529.31        226586.55   258863.00\n",
       "5            285390.71        283526.00   346576.53\n",
       "6            409439.17        369467.36   483174.76\n",
       "7            227072.62        236415.51   288818.33\n",
       "8            391224.77        404230.43   498860.35\n",
       "9            493576.73        423979.50   514197.78\n",
       "10           383938.11        308247.41   493042.59\n",
       "11           508488.90        462687.18   575552.81\n",
       "12           531319.55        467873.11   567470.33"
      ]
     },
     "execution_count": 115,
     "metadata": {},
     "output_type": "execute_result"
    }
   ],
   "source": [
    "Order.groupby(['Order.Month','Category'])['Sales'].sum().unstack('Category')"
   ]
  },
  {
   "cell_type": "code",
   "execution_count": 141,
   "id": "95eb0b1b",
   "metadata": {},
   "outputs": [
    {
     "data": {
      "text/plain": [
       "<AxesSubplot:title={'center':'Seasonality Analysis by Month for each Order Category(USD)'}, xlabel='Order.Month'>"
      ]
     },
     "execution_count": 141,
     "metadata": {},
     "output_type": "execute_result"
    },
    {
     "data": {
      "image/png": "[encoded data removed]",
      "text/plain": [
       "<Figure size 432x288 with 1 Axes>"
      ]
     },
     "metadata": {
      "needs_background": "light"
     },
     "output_type": "display_data"
    }
   ],
   "source": [
    "Season_Cat.plot(\n",
    "    y=Season_Cat.columns,\n",
    "    title='Seasonality Analysis by Month for each Order Category(USD)'\n",
    ")"
   ]
  },
  {
   "cell_type": "markdown",
   "id": "fc22b009",
   "metadata": {},
   "source": [
    "# Explore how much profit did we lose due to returns each year"
   ]
  },
  {
   "cell_type": "code",
   "execution_count": 105,
   "id": "72797d26",
   "metadata": {},
   "outputs": [],
   "source": [
    "#Load the returns file\n",
    "Return=pd.read_csv('Returns.csv')"
   ]
  },
  {
   "cell_type": "code",
   "execution_count": 107,
   "id": "a03bcbfd",
   "metadata": {},
   "outputs": [
    {
     "data": {
      "text/plain": [
       "((1079, 3), (51290, 26))"
      ]
     },
     "execution_count": 107,
     "metadata": {},
     "output_type": "execute_result"
    }
   ],
   "source": [
    "Return.shape, Order.shape"
   ]
  },
  {
   "cell_type": "code",
   "execution_count": 108,
   "id": "59675e42",
   "metadata": {},
   "outputs": [
    {
     "data": {
      "text/plain": [
       "Index(['Returned', 'Order ID', 'Region'], dtype='object')"
      ]
     },
     "execution_count": 108,
     "metadata": {},
     "output_type": "execute_result"
    }
   ],
   "source": [
    "Return.columns"
   ]
  },
  {
   "cell_type": "code",
   "execution_count": 111,
   "id": "045ab54c",
   "metadata": {},
   "outputs": [
    {
     "data": {
      "text/plain": [
       "Yes    1079\n",
       "Name: Returned, dtype: int64"
      ]
     },
     "execution_count": 111,
     "metadata": {},
     "output_type": "execute_result"
    }
   ],
   "source": [
    "Return['Returned'].value_counts()"
   ]
  },
  {
   "cell_type": "code",
   "execution_count": 116,
   "id": "38f3e66e",
   "metadata": {},
   "outputs": [
    {
     "data": {
      "text/plain": [
       "Index(['Row.ID', 'Order.ID', 'Order.Date', 'Ship.Date', 'Ship.Mode',\n",
       "       'Customer.ID', 'Customer.Name', 'Segment', 'Postal.Code', 'City',\n",
       "       'State', 'Country', 'Region', 'Market', 'Product.ID', 'Category',\n",
       "       'Sub.Category', 'Product.Name', 'Sales', 'Quantity', 'Discount',\n",
       "       'Profit', 'Shipping.Cost', 'Order.Priority', 'Order.Month',\n",
       "       'Order.Year'],\n",
       "      dtype='object')"
      ]
     },
     "execution_count": 116,
     "metadata": {},
     "output_type": "execute_result"
    }
   ],
   "source": [
    "Order.columns"
   ]
  },
  {
   "cell_type": "code",
   "execution_count": 117,
   "id": "dd50c3b2",
   "metadata": {},
   "outputs": [
    {
     "data": {
      "text/plain": [
       "Index(['Returned', 'Order.ID', 'Region'], dtype='object')"
      ]
     },
     "execution_count": 117,
     "metadata": {},
     "output_type": "execute_result"
    }
   ],
   "source": [
    "#Change column name 'Order ID' to 'Order.ID' for merging\n",
    "Return.rename(columns={'Order ID':'Order.ID'},inplace=True)\n",
    "Return.columns"
   ]
  },
  {
   "cell_type": "code",
   "execution_count": 118,
   "id": "f3928da1",
   "metadata": {},
   "outputs": [
    {
     "data": {
      "text/plain": [
       "Returned    object\n",
       "Order.ID    object\n",
       "Region      object\n",
       "dtype: object"
      ]
     },
     "execution_count": 118,
     "metadata": {},
     "output_type": "execute_result"
    }
   ],
   "source": [
    "Return.dtypes"
   ]
  },
  {
   "cell_type": "code",
   "execution_count": 119,
   "id": "c7a635b5",
   "metadata": {},
   "outputs": [
    {
     "data": {
      "text/html": [
       "<div>\n",
       "<style scoped>\n",
       "    .dataframe tbody tr th:only-of-type {\n",
       "        vertical-align: middle;\n",
       "    }\n",
       "\n",
       "    .dataframe tbody tr th {\n",
       "        vertical-align: top;\n",
       "    }\n",
       "\n",
       "    .dataframe thead th {\n",
       "        text-align: right;\n",
       "    }\n",
       "</style>\n",
       "<table border=\"1\" class=\"dataframe\">\n",
       "  <thead>\n",
       "    <tr style=\"text-align: right;\">\n",
       "      <th></th>\n",
       "      <th>Row.ID</th>\n",
       "      <th>Order.ID</th>\n",
       "      <th>Order.Date</th>\n",
       "      <th>Ship.Date</th>\n",
       "      <th>Ship.Mode</th>\n",
       "      <th>Customer.ID</th>\n",
       "      <th>Customer.Name</th>\n",
       "      <th>Segment</th>\n",
       "      <th>Postal.Code</th>\n",
       "      <th>City</th>\n",
       "      <th>...</th>\n",
       "      <th>Sales</th>\n",
       "      <th>Quantity</th>\n",
       "      <th>Discount</th>\n",
       "      <th>Profit</th>\n",
       "      <th>Shipping.Cost</th>\n",
       "      <th>Order.Priority</th>\n",
       "      <th>Order.Month</th>\n",
       "      <th>Order.Year</th>\n",
       "      <th>Returned</th>\n",
       "      <th>Region_y</th>\n",
       "    </tr>\n",
       "  </thead>\n",
       "  <tbody>\n",
       "    <tr>\n",
       "      <th>0</th>\n",
       "      <td>40098</td>\n",
       "      <td>CA-2014-AB10015140-41954</td>\n",
       "      <td>2014-11-11</td>\n",
       "      <td>2014-11-13</td>\n",
       "      <td>First Class</td>\n",
       "      <td>AB-100151402</td>\n",
       "      <td>Aaron Bergman</td>\n",
       "      <td>Consumer</td>\n",
       "      <td>73120.0</td>\n",
       "      <td>Oklahoma City</td>\n",
       "      <td>...</td>\n",
       "      <td>221.98</td>\n",
       "      <td>2</td>\n",
       "      <td>0.0</td>\n",
       "      <td>62.15</td>\n",
       "      <td>40.77</td>\n",
       "      <td>High</td>\n",
       "      <td>11</td>\n",
       "      <td>2014</td>\n",
       "      <td>NaN</td>\n",
       "      <td>NaN</td>\n",
       "    </tr>\n",
       "    <tr>\n",
       "      <th>1</th>\n",
       "      <td>26341</td>\n",
       "      <td>IN-2014-JR162107-41675</td>\n",
       "      <td>2014-02-05</td>\n",
       "      <td>2014-02-07</td>\n",
       "      <td>Second Class</td>\n",
       "      <td>JR-162107</td>\n",
       "      <td>Justin Ritter</td>\n",
       "      <td>Corporate</td>\n",
       "      <td>NaN</td>\n",
       "      <td>Wollongong</td>\n",
       "      <td>...</td>\n",
       "      <td>3709.40</td>\n",
       "      <td>9</td>\n",
       "      <td>0.1</td>\n",
       "      <td>-288.77</td>\n",
       "      <td>923.63</td>\n",
       "      <td>Critical</td>\n",
       "      <td>2</td>\n",
       "      <td>2014</td>\n",
       "      <td>NaN</td>\n",
       "      <td>NaN</td>\n",
       "    </tr>\n",
       "    <tr>\n",
       "      <th>2</th>\n",
       "      <td>25330</td>\n",
       "      <td>IN-2014-CR127307-41929</td>\n",
       "      <td>2014-10-17</td>\n",
       "      <td>2014-10-18</td>\n",
       "      <td>First Class</td>\n",
       "      <td>CR-127307</td>\n",
       "      <td>Craig Reiter</td>\n",
       "      <td>Consumer</td>\n",
       "      <td>NaN</td>\n",
       "      <td>Brisbane</td>\n",
       "      <td>...</td>\n",
       "      <td>5175.17</td>\n",
       "      <td>9</td>\n",
       "      <td>0.1</td>\n",
       "      <td>919.97</td>\n",
       "      <td>915.49</td>\n",
       "      <td>Medium</td>\n",
       "      <td>10</td>\n",
       "      <td>2014</td>\n",
       "      <td>NaN</td>\n",
       "      <td>NaN</td>\n",
       "    </tr>\n",
       "    <tr>\n",
       "      <th>3</th>\n",
       "      <td>13524</td>\n",
       "      <td>ES-2014-KM1637548-41667</td>\n",
       "      <td>2014-01-28</td>\n",
       "      <td>2014-01-30</td>\n",
       "      <td>First Class</td>\n",
       "      <td>KM-1637548</td>\n",
       "      <td>Katherine Murray</td>\n",
       "      <td>Home Office</td>\n",
       "      <td>NaN</td>\n",
       "      <td>Berlin</td>\n",
       "      <td>...</td>\n",
       "      <td>2892.51</td>\n",
       "      <td>5</td>\n",
       "      <td>0.1</td>\n",
       "      <td>-96.54</td>\n",
       "      <td>910.16</td>\n",
       "      <td>Medium</td>\n",
       "      <td>1</td>\n",
       "      <td>2014</td>\n",
       "      <td>NaN</td>\n",
       "      <td>NaN</td>\n",
       "    </tr>\n",
       "    <tr>\n",
       "      <th>4</th>\n",
       "      <td>47221</td>\n",
       "      <td>SG-2014-RH9495111-41948</td>\n",
       "      <td>2014-11-05</td>\n",
       "      <td>2014-11-06</td>\n",
       "      <td>Same Day</td>\n",
       "      <td>RH-9495111</td>\n",
       "      <td>Rick Hansen</td>\n",
       "      <td>Consumer</td>\n",
       "      <td>NaN</td>\n",
       "      <td>Dakar</td>\n",
       "      <td>...</td>\n",
       "      <td>2832.96</td>\n",
       "      <td>8</td>\n",
       "      <td>0.0</td>\n",
       "      <td>311.52</td>\n",
       "      <td>903.04</td>\n",
       "      <td>Critical</td>\n",
       "      <td>11</td>\n",
       "      <td>2014</td>\n",
       "      <td>NaN</td>\n",
       "      <td>NaN</td>\n",
       "    </tr>\n",
       "  </tbody>\n",
       "</table>\n",
       "<p>5 rows × 28 columns</p>\n",
       "</div>"
      ],
      "text/plain": [
       "   Row.ID                  Order.ID Order.Date  Ship.Date     Ship.Mode  \\\n",
       "0   40098  CA-2014-AB10015140-41954 2014-11-11 2014-11-13   First Class   \n",
       "1   26341    IN-2014-JR162107-41675 2014-02-05 2014-02-07  Second Class   \n",
       "2   25330    IN-2014-CR127307-41929 2014-10-17 2014-10-18   First Class   \n",
       "3   13524   ES-2014-KM1637548-41667 2014-01-28 2014-01-30   First Class   \n",
       "4   47221   SG-2014-RH9495111-41948 2014-11-05 2014-11-06      Same Day   \n",
       "\n",
       "    Customer.ID     Customer.Name      Segment  Postal.Code           City  \\\n",
       "0  AB-100151402     Aaron Bergman     Consumer      73120.0  Oklahoma City   \n",
       "1     JR-162107     Justin Ritter    Corporate          NaN     Wollongong   \n",
       "2     CR-127307      Craig Reiter     Consumer          NaN       Brisbane   \n",
       "3    KM-1637548  Katherine Murray  Home Office          NaN         Berlin   \n",
       "4    RH-9495111       Rick Hansen     Consumer          NaN          Dakar   \n",
       "\n",
       "   ...    Sales Quantity Discount  Profit Shipping.Cost Order.Priority  \\\n",
       "0  ...   221.98        2      0.0   62.15         40.77           High   \n",
       "1  ...  3709.40        9      0.1 -288.77        923.63       Critical   \n",
       "2  ...  5175.17        9      0.1  919.97        915.49         Medium   \n",
       "3  ...  2892.51        5      0.1  -96.54        910.16         Medium   \n",
       "4  ...  2832.96        8      0.0  311.52        903.04       Critical   \n",
       "\n",
       "  Order.Month Order.Year  Returned  Region_y  \n",
       "0          11       2014       NaN       NaN  \n",
       "1           2       2014       NaN       NaN  \n",
       "2          10       2014       NaN       NaN  \n",
       "3           1       2014       NaN       NaN  \n",
       "4          11       2014       NaN       NaN  \n",
       "\n",
       "[5 rows x 28 columns]"
      ]
     },
     "execution_count": 119,
     "metadata": {},
     "output_type": "execute_result"
    }
   ],
   "source": [
    "Order=Order.merge(Return,how='left',on='Order.ID')\n",
    "Order.head()"
   ]
  },
  {
   "cell_type": "code",
   "execution_count": 120,
   "id": "fc71005c",
   "metadata": {},
   "outputs": [
    {
     "data": {
      "text/plain": [
       "array([nan, 'Yes'], dtype=object)"
      ]
     },
     "execution_count": 120,
     "metadata": {},
     "output_type": "execute_result"
    }
   ],
   "source": [
    "Order['Returned'].unique()"
   ]
  },
  {
   "cell_type": "code",
   "execution_count": 121,
   "id": "9c4b2c5f",
   "metadata": {},
   "outputs": [
    {
     "data": {
      "text/html": [
       "<div>\n",
       "<style scoped>\n",
       "    .dataframe tbody tr th:only-of-type {\n",
       "        vertical-align: middle;\n",
       "    }\n",
       "\n",
       "    .dataframe tbody tr th {\n",
       "        vertical-align: top;\n",
       "    }\n",
       "\n",
       "    .dataframe thead th {\n",
       "        text-align: right;\n",
       "    }\n",
       "</style>\n",
       "<table border=\"1\" class=\"dataframe\">\n",
       "  <thead>\n",
       "    <tr style=\"text-align: right;\">\n",
       "      <th></th>\n",
       "      <th>Row.ID</th>\n",
       "      <th>Order.ID</th>\n",
       "      <th>Order.Date</th>\n",
       "      <th>Ship.Date</th>\n",
       "      <th>Ship.Mode</th>\n",
       "      <th>Customer.ID</th>\n",
       "      <th>Customer.Name</th>\n",
       "      <th>Segment</th>\n",
       "      <th>Postal.Code</th>\n",
       "      <th>City</th>\n",
       "      <th>...</th>\n",
       "      <th>Sales</th>\n",
       "      <th>Quantity</th>\n",
       "      <th>Discount</th>\n",
       "      <th>Profit</th>\n",
       "      <th>Shipping.Cost</th>\n",
       "      <th>Order.Priority</th>\n",
       "      <th>Order.Month</th>\n",
       "      <th>Order.Year</th>\n",
       "      <th>Returned</th>\n",
       "      <th>Region_y</th>\n",
       "    </tr>\n",
       "  </thead>\n",
       "  <tbody>\n",
       "    <tr>\n",
       "      <th>26</th>\n",
       "      <td>30191</td>\n",
       "      <td>IN-2012-PB19210127-41259</td>\n",
       "      <td>2012-12-16</td>\n",
       "      <td>2012-12-19</td>\n",
       "      <td>First Class</td>\n",
       "      <td>PB-19210127</td>\n",
       "      <td>Phillip Breyer</td>\n",
       "      <td>Corporate</td>\n",
       "      <td>NaN</td>\n",
       "      <td>Taipei</td>\n",
       "      <td>...</td>\n",
       "      <td>1715.16</td>\n",
       "      <td>2</td>\n",
       "      <td>0.0</td>\n",
       "      <td>720.36</td>\n",
       "      <td>725.57</td>\n",
       "      <td>Critical</td>\n",
       "      <td>12</td>\n",
       "      <td>2012</td>\n",
       "      <td>Yes</td>\n",
       "      <td>Eastern Asia</td>\n",
       "    </tr>\n",
       "    <tr>\n",
       "      <th>53</th>\n",
       "      <td>30190</td>\n",
       "      <td>IN-2012-PB19210127-41259</td>\n",
       "      <td>2012-12-16</td>\n",
       "      <td>2012-12-19</td>\n",
       "      <td>First Class</td>\n",
       "      <td>PB-19210127</td>\n",
       "      <td>Phillip Breyer</td>\n",
       "      <td>Corporate</td>\n",
       "      <td>NaN</td>\n",
       "      <td>Taipei</td>\n",
       "      <td>...</td>\n",
       "      <td>2197.50</td>\n",
       "      <td>5</td>\n",
       "      <td>0.0</td>\n",
       "      <td>153.75</td>\n",
       "      <td>627.27</td>\n",
       "      <td>Critical</td>\n",
       "      <td>12</td>\n",
       "      <td>2012</td>\n",
       "      <td>Yes</td>\n",
       "      <td>Eastern Asia</td>\n",
       "    </tr>\n",
       "    <tr>\n",
       "      <th>75</th>\n",
       "      <td>25438</td>\n",
       "      <td>IN-2015-JH158207-42140</td>\n",
       "      <td>2015-05-16</td>\n",
       "      <td>2015-05-18</td>\n",
       "      <td>Second Class</td>\n",
       "      <td>JH-158207</td>\n",
       "      <td>John Huston</td>\n",
       "      <td>Consumer</td>\n",
       "      <td>NaN</td>\n",
       "      <td>Melbourne</td>\n",
       "      <td>...</td>\n",
       "      <td>2863.35</td>\n",
       "      <td>5</td>\n",
       "      <td>0.1</td>\n",
       "      <td>858.90</td>\n",
       "      <td>581.88</td>\n",
       "      <td>Critical</td>\n",
       "      <td>5</td>\n",
       "      <td>2015</td>\n",
       "      <td>Yes</td>\n",
       "      <td>Oceania</td>\n",
       "    </tr>\n",
       "    <tr>\n",
       "      <th>110</th>\n",
       "      <td>32648</td>\n",
       "      <td>CA-2014-AS10045140-41727</td>\n",
       "      <td>2014-03-29</td>\n",
       "      <td>2014-04-01</td>\n",
       "      <td>First Class</td>\n",
       "      <td>AS-100451408</td>\n",
       "      <td>Aaron Smayling</td>\n",
       "      <td>Corporate</td>\n",
       "      <td>22204.0</td>\n",
       "      <td>Arlington</td>\n",
       "      <td>...</td>\n",
       "      <td>31.40</td>\n",
       "      <td>2</td>\n",
       "      <td>0.0</td>\n",
       "      <td>7.85</td>\n",
       "      <td>3.81</td>\n",
       "      <td>Medium</td>\n",
       "      <td>3</td>\n",
       "      <td>2014</td>\n",
       "      <td>Yes</td>\n",
       "      <td>Southern US</td>\n",
       "    </tr>\n",
       "    <tr>\n",
       "      <th>113</th>\n",
       "      <td>29629</td>\n",
       "      <td>IN-2014-LC168857-41747</td>\n",
       "      <td>2014-04-18</td>\n",
       "      <td>2014-04-19</td>\n",
       "      <td>First Class</td>\n",
       "      <td>LC-168857</td>\n",
       "      <td>Lena Creighton</td>\n",
       "      <td>Consumer</td>\n",
       "      <td>NaN</td>\n",
       "      <td>Sydney</td>\n",
       "      <td>...</td>\n",
       "      <td>1601.64</td>\n",
       "      <td>5</td>\n",
       "      <td>0.1</td>\n",
       "      <td>587.19</td>\n",
       "      <td>511.47</td>\n",
       "      <td>Critical</td>\n",
       "      <td>4</td>\n",
       "      <td>2014</td>\n",
       "      <td>Yes</td>\n",
       "      <td>Oceania</td>\n",
       "    </tr>\n",
       "  </tbody>\n",
       "</table>\n",
       "<p>5 rows × 28 columns</p>\n",
       "</div>"
      ],
      "text/plain": [
       "     Row.ID                  Order.ID Order.Date  Ship.Date     Ship.Mode  \\\n",
       "26    30191  IN-2012-PB19210127-41259 2012-12-16 2012-12-19   First Class   \n",
       "53    30190  IN-2012-PB19210127-41259 2012-12-16 2012-12-19   First Class   \n",
       "75    25438    IN-2015-JH158207-42140 2015-05-16 2015-05-18  Second Class   \n",
       "110   32648  CA-2014-AS10045140-41727 2014-03-29 2014-04-01   First Class   \n",
       "113   29629    IN-2014-LC168857-41747 2014-04-18 2014-04-19   First Class   \n",
       "\n",
       "      Customer.ID   Customer.Name    Segment  Postal.Code       City  ...  \\\n",
       "26    PB-19210127  Phillip Breyer  Corporate          NaN     Taipei  ...   \n",
       "53    PB-19210127  Phillip Breyer  Corporate          NaN     Taipei  ...   \n",
       "75      JH-158207     John Huston   Consumer          NaN  Melbourne  ...   \n",
       "110  AS-100451408  Aaron Smayling  Corporate      22204.0  Arlington  ...   \n",
       "113     LC-168857  Lena Creighton   Consumer          NaN     Sydney  ...   \n",
       "\n",
       "       Sales Quantity Discount  Profit Shipping.Cost Order.Priority  \\\n",
       "26   1715.16        2      0.0  720.36        725.57       Critical   \n",
       "53   2197.50        5      0.0  153.75        627.27       Critical   \n",
       "75   2863.35        5      0.1  858.90        581.88       Critical   \n",
       "110    31.40        2      0.0    7.85          3.81         Medium   \n",
       "113  1601.64        5      0.1  587.19        511.47       Critical   \n",
       "\n",
       "    Order.Month Order.Year  Returned      Region_y  \n",
       "26           12       2012       Yes  Eastern Asia  \n",
       "53           12       2012       Yes  Eastern Asia  \n",
       "75            5       2015       Yes       Oceania  \n",
       "110           3       2014       Yes   Southern US  \n",
       "113           4       2014       Yes       Oceania  \n",
       "\n",
       "[5 rows x 28 columns]"
      ]
     },
     "execution_count": 121,
     "metadata": {},
     "output_type": "execute_result"
    }
   ],
   "source": [
    "#Find the returned orders\n",
    "Returned_Order=Order[Order['Returned']=='Yes']\n",
    "Returned_Order.head()"
   ]
  },
  {
   "cell_type": "code",
   "execution_count": 139,
   "id": "9245df4b",
   "metadata": {},
   "outputs": [
    {
     "data": {
      "text/plain": [
       "<AxesSubplot:title={'center':'Profit Loss by Year (USD)'}, xlabel='Order.Year'>"
      ]
     },
     "execution_count": 139,
     "metadata": {},
     "output_type": "execute_result"
    },
    {
     "data": {
      "image/png": "[encoded data removed]",
      "text/plain": [
       "<Figure size 432x288 with 1 Axes>"
      ]
     },
     "metadata": {
      "needs_background": "light"
     },
     "output_type": "display_data"
    }
   ],
   "source": [
    "Returned_Order.groupby(['Order.Year'])[['Profit']].sum().plot(\n",
    "    xticks=list(range(min(Returned_Order['Order.Year']),max(Returned_Order['Order.Year']+1))),\n",
    "    title='Profit Loss by Year (USD)'\n",
    ")"
   ]
  },
  {
   "cell_type": "code",
   "execution_count": 144,
   "id": "e23eac2f",
   "metadata": {},
   "outputs": [
    {
     "data": {
      "text/plain": [
       "Index(['Row.ID', 'Order.ID', 'Order.Date', 'Ship.Date', 'Ship.Mode',\n",
       "       'Customer.ID', 'Customer.Name', 'Segment', 'Postal.Code', 'City',\n",
       "       'State', 'Country', 'Region_x', 'Market', 'Product.ID', 'Category',\n",
       "       'Sub.Category', 'Product.Name', 'Sales', 'Quantity', 'Discount',\n",
       "       'Profit', 'Shipping.Cost', 'Order.Priority', 'Order.Month',\n",
       "       'Order.Year', 'Returned', 'Region_y'],\n",
       "      dtype='object')"
      ]
     },
     "execution_count": 144,
     "metadata": {},
     "output_type": "execute_result"
    }
   ],
   "source": [
    "Returned_Order.columns"
   ]
  },
  {
   "cell_type": "code",
   "execution_count": 167,
   "id": "6378f990",
   "metadata": {},
   "outputs": [
    {
     "name": "stdout",
     "output_type": "stream",
     "text": [
      "Number of customers who returned more than once is 547\n",
      "Number of customers who returned more than 5 times is 46\n"
     ]
    }
   ],
   "source": [
    "#How many customer returned more than once? more than 5 times?\n",
    "print(f\"Number of customers who returned more than once is {sum(Returned_Order.groupby('Customer.ID')['Returned'].count()>1)}\")\n",
    "print(f\"Number of customers who returned more than 5 times is {sum(Returned_Order.groupby('Customer.ID')['Returned'].count()>5)}\")"
   ]
  },
  {
   "cell_type": "code",
   "execution_count": 185,
   "id": "327f3b06",
   "metadata": {},
   "outputs": [],
   "source": [
    "#Which regions are more likely to return orders?\n",
    "\n",
    "#number of orders by region:\n",
    "Order_Region=Order.groupby('Region_x')['Order.ID'].nunique()\n",
    "\n",
    "#number of returns by region:\n",
    "Return_Region=Returned_Order.groupby('Region_x')['Order.ID'].nunique()"
   ]
  },
  {
   "cell_type": "code",
   "execution_count": 190,
   "id": "dd93c520",
   "metadata": {},
   "outputs": [
    {
     "data": {
      "text/html": [
       "<div>\n",
       "<style scoped>\n",
       "    .dataframe tbody tr th:only-of-type {\n",
       "        vertical-align: middle;\n",
       "    }\n",
       "\n",
       "    .dataframe tbody tr th {\n",
       "        vertical-align: top;\n",
       "    }\n",
       "\n",
       "    .dataframe thead th {\n",
       "        text-align: right;\n",
       "    }\n",
       "</style>\n",
       "<table border=\"1\" class=\"dataframe\">\n",
       "  <thead>\n",
       "    <tr style=\"text-align: right;\">\n",
       "      <th></th>\n",
       "      <th>order_count</th>\n",
       "      <th>return_count</th>\n",
       "      <th>return_ratio</th>\n",
       "    </tr>\n",
       "    <tr>\n",
       "      <th>Region_x</th>\n",
       "      <th></th>\n",
       "      <th></th>\n",
       "      <th></th>\n",
       "    </tr>\n",
       "  </thead>\n",
       "  <tbody>\n",
       "    <tr>\n",
       "      <th>Southern US</th>\n",
       "      <td>822</td>\n",
       "      <td>44</td>\n",
       "      <td>0.053528</td>\n",
       "    </tr>\n",
       "    <tr>\n",
       "      <th>Southern Europe</th>\n",
       "      <td>1098</td>\n",
       "      <td>55</td>\n",
       "      <td>0.050091</td>\n",
       "    </tr>\n",
       "    <tr>\n",
       "      <th>Eastern US</th>\n",
       "      <td>1401</td>\n",
       "      <td>69</td>\n",
       "      <td>0.049251</td>\n",
       "    </tr>\n",
       "    <tr>\n",
       "      <th>Southern Africa</th>\n",
       "      <td>241</td>\n",
       "      <td>11</td>\n",
       "      <td>0.045643</td>\n",
       "    </tr>\n",
       "    <tr>\n",
       "      <th>Eastern Asia</th>\n",
       "      <td>1162</td>\n",
       "      <td>53</td>\n",
       "      <td>0.045611</td>\n",
       "    </tr>\n",
       "    <tr>\n",
       "      <th>Oceania</th>\n",
       "      <td>1743</td>\n",
       "      <td>78</td>\n",
       "      <td>0.044750</td>\n",
       "    </tr>\n",
       "    <tr>\n",
       "      <th>Western US</th>\n",
       "      <td>1611</td>\n",
       "      <td>72</td>\n",
       "      <td>0.044693</td>\n",
       "    </tr>\n",
       "    <tr>\n",
       "      <th>Southern Asia</th>\n",
       "      <td>1346</td>\n",
       "      <td>58</td>\n",
       "      <td>0.043091</td>\n",
       "    </tr>\n",
       "    <tr>\n",
       "      <th>Southeastern Asia</th>\n",
       "      <td>1517</td>\n",
       "      <td>64</td>\n",
       "      <td>0.042189</td>\n",
       "    </tr>\n",
       "    <tr>\n",
       "      <th>South America</th>\n",
       "      <td>1457</td>\n",
       "      <td>61</td>\n",
       "      <td>0.041867</td>\n",
       "    </tr>\n",
       "    <tr>\n",
       "      <th>Western Asia</th>\n",
       "      <td>1200</td>\n",
       "      <td>50</td>\n",
       "      <td>0.041667</td>\n",
       "    </tr>\n",
       "    <tr>\n",
       "      <th>North Africa</th>\n",
       "      <td>626</td>\n",
       "      <td>26</td>\n",
       "      <td>0.041534</td>\n",
       "    </tr>\n",
       "    <tr>\n",
       "      <th>Central America</th>\n",
       "      <td>2831</td>\n",
       "      <td>117</td>\n",
       "      <td>0.041328</td>\n",
       "    </tr>\n",
       "    <tr>\n",
       "      <th>Western Africa</th>\n",
       "      <td>711</td>\n",
       "      <td>29</td>\n",
       "      <td>0.040788</td>\n",
       "    </tr>\n",
       "    <tr>\n",
       "      <th>Western Europe</th>\n",
       "      <td>2993</td>\n",
       "      <td>121</td>\n",
       "      <td>0.040428</td>\n",
       "    </tr>\n",
       "    <tr>\n",
       "      <th>Northern Europe</th>\n",
       "      <td>1137</td>\n",
       "      <td>43</td>\n",
       "      <td>0.037819</td>\n",
       "    </tr>\n",
       "    <tr>\n",
       "      <th>Central US</th>\n",
       "      <td>1175</td>\n",
       "      <td>44</td>\n",
       "      <td>0.037447</td>\n",
       "    </tr>\n",
       "    <tr>\n",
       "      <th>Caribbean</th>\n",
       "      <td>856</td>\n",
       "      <td>31</td>\n",
       "      <td>0.036215</td>\n",
       "    </tr>\n",
       "    <tr>\n",
       "      <th>Central Asia</th>\n",
       "      <td>112</td>\n",
       "      <td>4</td>\n",
       "      <td>0.035714</td>\n",
       "    </tr>\n",
       "    <tr>\n",
       "      <th>Eastern Europe</th>\n",
       "      <td>785</td>\n",
       "      <td>24</td>\n",
       "      <td>0.030573</td>\n",
       "    </tr>\n",
       "    <tr>\n",
       "      <th>Central Africa</th>\n",
       "      <td>333</td>\n",
       "      <td>10</td>\n",
       "      <td>0.030030</td>\n",
       "    </tr>\n",
       "    <tr>\n",
       "      <th>Canada</th>\n",
       "      <td>205</td>\n",
       "      <td>6</td>\n",
       "      <td>0.029268</td>\n",
       "    </tr>\n",
       "    <tr>\n",
       "      <th>Eastern Africa</th>\n",
       "      <td>377</td>\n",
       "      <td>11</td>\n",
       "      <td>0.029178</td>\n",
       "    </tr>\n",
       "  </tbody>\n",
       "</table>\n",
       "</div>"
      ],
      "text/plain": [
       "                   order_count  return_count  return_ratio\n",
       "Region_x                                                  \n",
       "Southern US                822            44      0.053528\n",
       "Southern Europe           1098            55      0.050091\n",
       "Eastern US                1401            69      0.049251\n",
       "Southern Africa            241            11      0.045643\n",
       "Eastern Asia              1162            53      0.045611\n",
       "Oceania                   1743            78      0.044750\n",
       "Western US                1611            72      0.044693\n",
       "Southern Asia             1346            58      0.043091\n",
       "Southeastern Asia         1517            64      0.042189\n",
       "South America             1457            61      0.041867\n",
       "Western Asia              1200            50      0.041667\n",
       "North Africa               626            26      0.041534\n",
       "Central America           2831           117      0.041328\n",
       "Western Africa             711            29      0.040788\n",
       "Western Europe            2993           121      0.040428\n",
       "Northern Europe           1137            43      0.037819\n",
       "Central US                1175            44      0.037447\n",
       "Caribbean                  856            31      0.036215\n",
       "Central Asia               112             4      0.035714\n",
       "Eastern Europe             785            24      0.030573\n",
       "Central Africa             333            10      0.030030\n",
       "Canada                     205             6      0.029268\n",
       "Eastern Africa             377            11      0.029178"
      ]
     },
     "execution_count": 190,
     "metadata": {},
     "output_type": "execute_result"
    }
   ],
   "source": [
    "Return_Ratio = pd.DataFrame({\n",
    "    \"order_count\": Order_Region,\n",
    "    \"return_count\": Return_Region\n",
    "})\n",
    "\n",
    "Return_Ratio[\"return_ratio\"] = Return_Ratio[\"return_count\"] / Return_Ratio[\"order_count\"]\n",
    "\n",
    "Return_Ratio.sort_values(\"return_ratio\", ascending=False)"
   ]
  },
  {
   "cell_type": "code",
   "execution_count": 197,
   "id": "c30c80e1",
   "metadata": {},
   "outputs": [
    {
     "name": "stdout",
     "output_type": "stream",
     "text": [
      "Office Supplies    31289\n",
      "Technology         10141\n",
      "Furniture           9860\n",
      "Name: Category, dtype: int64\n",
      "**************************************************\n",
      "Office Supplies    1348\n",
      "Technology          445\n",
      "Furniture           427\n",
      "Name: Category, dtype: int64\n",
      "**************************************************\n"
     ]
    },
    {
     "data": {
      "text/plain": [
       "Technology         0.043881\n",
       "Furniture          0.043306\n",
       "Office Supplies    0.043082\n",
       "Name: Category, dtype: float64"
      ]
     },
     "execution_count": 197,
     "metadata": {},
     "output_type": "execute_result"
    }
   ],
   "source": [
    "#Which categories (sub-categories) of products are more likely to be returned?\n",
    "\n",
    "#categories\n",
    "print(Order['Category'].value_counts())\n",
    "print('*'*50)\n",
    "print(Returned_Order['Category'].value_counts())\n",
    "print('*'*50)\n",
    "((Returned_Order['Category'].value_counts())/(Order['Category'].value_counts())).sort_values(ascending=False)"
   ]
  },
  {
   "cell_type": "code",
   "execution_count": 198,
   "id": "e7685627",
   "metadata": {},
   "outputs": [
    {
     "name": "stdout",
     "output_type": "stream",
     "text": [
      "Binders        6146\n",
      "Storage        5049\n",
      "Art            4864\n",
      "Paper          3492\n",
      "Chairs         3434\n",
      "Phones         3357\n",
      "Furnishings    3154\n",
      "Accessories    3075\n",
      "Fasteners      2601\n",
      "Labels         2601\n",
      "Bookcases      2411\n",
      "Supplies       2407\n",
      "Envelopes      2387\n",
      "Copiers        2223\n",
      "Appliances     1742\n",
      "Machines       1486\n",
      "Tables          861\n",
      "Name: Sub.Category, dtype: int64\n",
      "**************************************************\n",
      "Binders        269\n",
      "Art            217\n",
      "Storage        212\n",
      "Paper          150\n",
      "Chairs         147\n",
      "Phones         145\n",
      "Accessories    138\n",
      "Labels         137\n",
      "Furnishings    135\n",
      "Bookcases      104\n",
      "Supplies       103\n",
      "Fasteners      102\n",
      "Envelopes       99\n",
      "Copiers         99\n",
      "Machines        63\n",
      "Appliances      59\n",
      "Tables          41\n",
      "Name: Sub.Category, dtype: int64\n",
      "**************************************************\n"
     ]
    },
    {
     "data": {
      "text/plain": [
       "Labels         0.052672\n",
       "Tables         0.047619\n",
       "Accessories    0.044878\n",
       "Art            0.044613\n",
       "Copiers        0.044534\n",
       "Binders        0.043768\n",
       "Phones         0.043193\n",
       "Bookcases      0.043136\n",
       "Paper          0.042955\n",
       "Chairs         0.042807\n",
       "Furnishings    0.042803\n",
       "Supplies       0.042792\n",
       "Machines       0.042396\n",
       "Storage        0.041989\n",
       "Envelopes      0.041475\n",
       "Fasteners      0.039216\n",
       "Appliances     0.033869\n",
       "Name: Sub.Category, dtype: float64"
      ]
     },
     "execution_count": 198,
     "metadata": {},
     "output_type": "execute_result"
    }
   ],
   "source": [
    "#sub-categories\n",
    "print(Order['Sub.Category'].value_counts())\n",
    "print('*'*50)\n",
    "print(Returned_Order['Sub.Category'].value_counts())\n",
    "print('*'*50)\n",
    "((Returned_Order['Sub.Category'].value_counts())/(Order['Sub.Category'].value_counts())).sort_values(ascending=False)"
   ]
  },
  {
   "cell_type": "code",
   "execution_count": 200,
   "id": "e8db6f2f",
   "metadata": {},
   "outputs": [
    {
     "name": "stdout",
     "output_type": "stream",
     "text": [
      "Category         Sub.Category\n",
      "Furniture        Bookcases       2411\n",
      "                 Chairs          3434\n",
      "                 Furnishings     3154\n",
      "                 Tables           861\n",
      "Office Supplies  Appliances      1742\n",
      "                 Art             4864\n",
      "                 Binders         6146\n",
      "                 Envelopes       2387\n",
      "                 Fasteners       2601\n",
      "                 Labels          2601\n",
      "                 Paper           3492\n",
      "                 Storage         5049\n",
      "                 Supplies        2407\n",
      "Technology       Accessories     3075\n",
      "                 Copiers         2223\n",
      "                 Machines        1486\n",
      "                 Phones          3357\n",
      "Name: Product.ID, dtype: int64\n",
      "**************************************************\n",
      "Category         Sub.Category\n",
      "Furniture        Bookcases       104\n",
      "                 Chairs          147\n",
      "                 Furnishings     135\n",
      "                 Tables           41\n",
      "Office Supplies  Appliances       59\n",
      "                 Art             217\n",
      "                 Binders         269\n",
      "                 Envelopes        99\n",
      "                 Fasteners       102\n",
      "                 Labels          137\n",
      "                 Paper           150\n",
      "                 Storage         212\n",
      "                 Supplies        103\n",
      "Technology       Accessories     138\n",
      "                 Copiers          99\n",
      "                 Machines         63\n",
      "                 Phones          145\n",
      "Name: Product.ID, dtype: int64\n",
      "**************************************************\n"
     ]
    },
    {
     "data": {
      "text/plain": [
       "Category         Sub.Category\n",
       "Office Supplies  Labels          0.052672\n",
       "Furniture        Tables          0.047619\n",
       "Technology       Accessories     0.044878\n",
       "Office Supplies  Art             0.044613\n",
       "Technology       Copiers         0.044534\n",
       "Office Supplies  Binders         0.043768\n",
       "Technology       Phones          0.043193\n",
       "Furniture        Bookcases       0.043136\n",
       "Office Supplies  Paper           0.042955\n",
       "Furniture        Chairs          0.042807\n",
       "                 Furnishings     0.042803\n",
       "Office Supplies  Supplies        0.042792\n",
       "Technology       Machines        0.042396\n",
       "Office Supplies  Storage         0.041989\n",
       "                 Envelopes       0.041475\n",
       "                 Fasteners       0.039216\n",
       "                 Appliances      0.033869\n",
       "Name: Product.ID, dtype: float64"
      ]
     },
     "execution_count": 200,
     "metadata": {},
     "output_type": "execute_result"
    }
   ],
   "source": [
    "#Categories and sub-categories:\n",
    "print(Order.groupby(['Category', 'Sub.Category'])['Product.ID'].count())\n",
    "print('*'*50)\n",
    "print(Returned_Order.groupby(['Category', 'Sub.Category'])['Product.ID'].count())\n",
    "print('*'*50)\n",
    "(Returned_Order.groupby(['Category', 'Sub.Category'])['Product.ID'].count()/Order.groupby(['Category', 'Sub.Category'])['Product.ID'].count()).sort_values(ascending=False)"
   ]
  },
  {
   "cell_type": "code",
   "execution_count": 204,
   "id": "ff7d3f68",
   "metadata": {},
   "outputs": [
    {
     "data": {
      "text/plain": [
       "(0    49070\n",
       " 1     2220\n",
       " Name: Returned, dtype: int64,\n",
       " array([0, 1], dtype=int64))"
      ]
     },
     "execution_count": 204,
     "metadata": {},
     "output_type": "execute_result"
    }
   ],
   "source": [
    "Order['Returned'].value_counts(), Order['Returned'].unique()"
   ]
  },
  {
   "cell_type": "code",
   "execution_count": 203,
   "id": "5c89281b",
   "metadata": {},
   "outputs": [],
   "source": [
    "#Convert the Returned column to binary\n",
    "Order['Returned']=Order['Returned'].map(lambda x: 1 if (x=='Yes') else 0)"
   ]
  },
  {
   "cell_type": "code",
   "execution_count": 206,
   "id": "c9b68c75",
   "metadata": {},
   "outputs": [
    {
     "data": {
      "text/plain": [
       "0    24649\n",
       "1     1079\n",
       "Name: Returned, dtype: int64"
      ]
     },
     "execution_count": 206,
     "metadata": {},
     "output_type": "execute_result"
    }
   ],
   "source": [
    "#Get rid of duplicates of order ID,because we assume a returned order includes all products of that order, because the \n",
    "#Returned dataset has not product ID but only order ID.\n",
    "Order1=Order[['Order.ID','Returned']].drop_duplicates()\n",
    "Order1['Returned'].value_counts()"
   ]
  },
  {
   "cell_type": "code",
   "execution_count": 207,
   "id": "649b2794",
   "metadata": {},
   "outputs": [
    {
     "data": {
      "text/html": [
       "<div>\n",
       "<style scoped>\n",
       "    .dataframe tbody tr th:only-of-type {\n",
       "        vertical-align: middle;\n",
       "    }\n",
       "\n",
       "    .dataframe tbody tr th {\n",
       "        vertical-align: top;\n",
       "    }\n",
       "\n",
       "    .dataframe thead th {\n",
       "        text-align: right;\n",
       "    }\n",
       "</style>\n",
       "<table border=\"1\" class=\"dataframe\">\n",
       "  <thead>\n",
       "    <tr style=\"text-align: right;\">\n",
       "      <th></th>\n",
       "      <th>Order.ID</th>\n",
       "      <th>Returned</th>\n",
       "    </tr>\n",
       "  </thead>\n",
       "  <tbody>\n",
       "    <tr>\n",
       "      <th>0</th>\n",
       "      <td>CA-2014-AB10015140-41954</td>\n",
       "      <td>0</td>\n",
       "    </tr>\n",
       "    <tr>\n",
       "      <th>1</th>\n",
       "      <td>IN-2014-JR162107-41675</td>\n",
       "      <td>0</td>\n",
       "    </tr>\n",
       "    <tr>\n",
       "      <th>2</th>\n",
       "      <td>IN-2014-CR127307-41929</td>\n",
       "      <td>0</td>\n",
       "    </tr>\n",
       "    <tr>\n",
       "      <th>3</th>\n",
       "      <td>ES-2014-KM1637548-41667</td>\n",
       "      <td>0</td>\n",
       "    </tr>\n",
       "    <tr>\n",
       "      <th>4</th>\n",
       "      <td>SG-2014-RH9495111-41948</td>\n",
       "      <td>0</td>\n",
       "    </tr>\n",
       "    <tr>\n",
       "      <th>...</th>\n",
       "      <td>...</td>\n",
       "      <td>...</td>\n",
       "    </tr>\n",
       "    <tr>\n",
       "      <th>51281</th>\n",
       "      <td>MX-2015-HG1502518-42164</td>\n",
       "      <td>0</td>\n",
       "    </tr>\n",
       "    <tr>\n",
       "      <th>51282</th>\n",
       "      <td>IN-2015-DB132707-42221</td>\n",
       "      <td>0</td>\n",
       "    </tr>\n",
       "    <tr>\n",
       "      <th>51283</th>\n",
       "      <td>IN-2015-KH1633058-42154</td>\n",
       "      <td>0</td>\n",
       "    </tr>\n",
       "    <tr>\n",
       "      <th>51286</th>\n",
       "      <td>US-2014-ZD21925140-41765</td>\n",
       "      <td>0</td>\n",
       "    </tr>\n",
       "    <tr>\n",
       "      <th>51289</th>\n",
       "      <td>MX-2013-MC1810093-41416</td>\n",
       "      <td>0</td>\n",
       "    </tr>\n",
       "  </tbody>\n",
       "</table>\n",
       "<p>25728 rows × 2 columns</p>\n",
       "</div>"
      ],
      "text/plain": [
       "                       Order.ID  Returned\n",
       "0      CA-2014-AB10015140-41954         0\n",
       "1        IN-2014-JR162107-41675         0\n",
       "2        IN-2014-CR127307-41929         0\n",
       "3       ES-2014-KM1637548-41667         0\n",
       "4       SG-2014-RH9495111-41948         0\n",
       "...                         ...       ...\n",
       "51281   MX-2015-HG1502518-42164         0\n",
       "51282    IN-2015-DB132707-42221         0\n",
       "51283   IN-2015-KH1633058-42154         0\n",
       "51286  US-2014-ZD21925140-41765         0\n",
       "51289   MX-2013-MC1810093-41416         0\n",
       "\n",
       "[25728 rows x 2 columns]"
      ]
     },
     "execution_count": 207,
     "metadata": {},
     "output_type": "execute_result"
    }
   ],
   "source": [
    "Order1"
   ]
  },
  {
   "cell_type": "code",
   "execution_count": 208,
   "id": "abf2cadb",
   "metadata": {},
   "outputs": [],
   "source": [
    "#Feature Engineering: Process Time\n",
    "Order['Process.Time']=(Order['Ship.Date'] - Order['Order.Date']).dt.days"
   ]
  },
  {
   "cell_type": "code",
   "execution_count": 213,
   "id": "da3b3cae",
   "metadata": {},
   "outputs": [
    {
     "data": {
      "text/plain": [
       "Product.ID\n",
       "OFF-FA-6129    12\n",
       "OFF-ST-6033     9\n",
       "OFF-AR-3499     6\n",
       "OFF-ST-6031     6\n",
       "OFF-ST-6251     6\n",
       "               ..\n",
       "OFF-BI-4567     0\n",
       "OFF-BI-4804     0\n",
       "OFF-BI-4806     0\n",
       "OFF-BI-4811     0\n",
       "TEC-PH-6626     0\n",
       "Name: Returned, Length: 3788, dtype: int64"
      ]
     },
     "execution_count": 213,
     "metadata": {},
     "output_type": "execute_result"
    }
   ],
   "source": [
    "#Count return for each product\n",
    "Prod_Return_Count=Order.groupby('Product.ID')['Returned'].sum()\n",
    "Prod_Return_Count.sort_values(ascending=False)\n",
    "#Another expression:\n",
    "# product_returns = orders[orders['Returned']==1].groupby('Product.ID').sum()['Quantity']\n",
    "# orders['N_Returns'] = orders['Product.ID'].map(product_returns)\n",
    "# orders['N_Returns'] = orders['N_Returns'].fillna(0)"
   ]
  },
  {
   "cell_type": "code",
   "execution_count": 215,
   "id": "d0b67fa6",
   "metadata": {},
   "outputs": [],
   "source": [
    "Order['Product.Return.Count']=Order['Product.ID'].map(lambda x: Prod_Return_Count[x])"
   ]
  },
  {
   "cell_type": "code",
   "execution_count": 216,
   "id": "19abd9a5",
   "metadata": {},
   "outputs": [
    {
     "data": {
      "text/plain": [
       "Index(['Row.ID', 'Order.ID', 'Order.Date', 'Ship.Date', 'Ship.Mode',\n",
       "       'Customer.ID', 'Customer.Name', 'Segment', 'Postal.Code', 'City',\n",
       "       'State', 'Country', 'Region_x', 'Market', 'Product.ID', 'Category',\n",
       "       'Sub.Category', 'Product.Name', 'Sales', 'Quantity', 'Discount',\n",
       "       'Profit', 'Shipping.Cost', 'Order.Priority', 'Order.Month',\n",
       "       'Order.Year', 'Returned', 'Region_y', 'Process.Time',\n",
       "       'Product.Return.Count'],\n",
       "      dtype='object')"
      ]
     },
     "execution_count": 216,
     "metadata": {},
     "output_type": "execute_result"
    }
   ],
   "source": [
    "Order.columns"
   ]
  },
  {
   "cell_type": "code",
   "execution_count": null,
   "id": "4e7d9254",
   "metadata": {},
   "outputs": [],
   "source": []
  }
 ],
 "metadata": {
  "kernelspec": {
   "display_name": "Python 3",
   "language": "python",
   "name": "python3"
  },
  "language_info": {
   "codemirror_mode": {
    "name": "ipython",
    "version": 3
   },
   "file_extension": ".py",
   "mimetype": "text/x-python",
   "name": "python",
   "nbconvert_exporter": "python",
   "pygments_lexer": "ipython3",
   "version": "3.8.8"
  }
 },
 "nbformat": 4,
 "nbformat_minor": 5
}
